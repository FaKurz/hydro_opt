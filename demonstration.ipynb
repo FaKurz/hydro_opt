{
 "cells": [
  {
   "cell_type": "code",
   "execution_count": 1,
   "id": "9b6fca18-3ba7-4c0e-ae58-5fc139ceebf5",
   "metadata": {
    "tags": []
   },
   "outputs": [],
   "source": [
    "import pyomo.environ as pyo\n",
    "import pandas as pd\n",
    "import seaborn as sns\n",
    "import matplotlib.pyplot as plt\n",
    "import matplotlib.cm as cm\n",
    "import matplotlib.colors as mcolors\n",
    "import geopandas as gpd\n",
    "from hydro_opt import hydro_opt"
   ]
  },
  {
   "cell_type": "code",
   "execution_count": 2,
   "id": "94f2b23a-5f73-498e-a8f2-657bc473c001",
   "metadata": {
    "tags": []
   },
   "outputs": [],
   "source": [
    "t1 = hydro_opt()"
   ]
  },
  {
   "cell_type": "code",
   "execution_count": 3,
   "id": "23ab0b6f-701f-4344-b721-1d9cbc97f3dd",
   "metadata": {
    "tags": []
   },
   "outputs": [
    {
     "data": {
      "text/plain": [
       "<hydro_opt.hydro_opt at 0x1a5550340d0>"
      ]
     },
     "execution_count": 3,
     "metadata": {},
     "output_type": "execute_result"
    }
   ],
   "source": [
    "t1"
   ]
  },
  {
   "cell_type": "code",
   "execution_count": 5,
   "id": "71f5162b-f390-4c82-8838-c31bd439adbf",
   "metadata": {
    "tags": []
   },
   "outputs": [
    {
     "name": "stdout",
     "output_type": "stream",
     "text": [
      "Help on hydro_opt in module hydro_opt object:\n",
      "\n",
      "class hydro_opt(builtins.object)\n",
      " |  hydro_opt(input_data=None, h2_to_nh3_eff=None, h2_to_ch3oh_eff=None, h2_demand=None, nh3_demand=None, ch3oh_demand=None)\n",
      " |  \n",
      " |  Methods defined here:\n",
      " |  \n",
      " |  __init__(self, input_data=None, h2_to_nh3_eff=None, h2_to_ch3oh_eff=None, h2_demand=None, nh3_demand=None, ch3oh_demand=None)\n",
      " |      Initialize self.  See help(type(self)) for accurate signature.\n",
      " |  \n",
      " |  optimize(self, solve='gurobi', show_model=False, return_model=False, return_as_df=False)\n",
      " |      optimizes the given Model by minimizing the combined cost for:\n",
      " |          - import by ship and pipeline for H2, NH3 and CH3OH\n",
      " |          - conversion of H2 to NH3 or CH3OH \n",
      " |      \n",
      " |      solve: string, default \"gurobi\"\n",
      " |          value for pyomo.environ.SolverFactory()\n",
      " |          defines the used Solver\n",
      " |      show_model: bool, default False\n",
      " |          if True: calls .display() on the optimized model to show the model in console\n",
      " |      return_model: bool, default False\n",
      " |          if True: returns the optimized pyomo model\n",
      " |      return_as_df: bool, default False\n",
      " |          if True: returns the optimized values as pandas DataFrame\n",
      " |          only used in combination with return_model=True\n",
      " |  \n",
      " |  visualize(self, what='combined import', vis_style='map', cmap='viridis', figsize=(16, 9), return_df=False)\n",
      " |      Allows for visualisations of the results from the optimization. If different visualisations are needed, get the model results by calling \".optimize(return_model=True)\"\n",
      " |      \n",
      " |      keywords:\n",
      " |          description\n",
      " |  \n",
      " |  ----------------------------------------------------------------------\n",
      " |  Data descriptors defined here:\n",
      " |  \n",
      " |  __dict__\n",
      " |      dictionary for instance variables (if defined)\n",
      " |  \n",
      " |  __weakref__\n",
      " |      list of weak references to the object (if defined)\n",
      "\n"
     ]
    }
   ],
   "source": [
    "help(t1)"
   ]
  },
  {
   "cell_type": "code",
   "execution_count": null,
   "id": "767a75b3-99aa-418d-bdc8-73968c0c5f9b",
   "metadata": {},
   "outputs": [],
   "source": []
  }
 ],
 "metadata": {
  "kernelspec": {
   "display_name": "Python 3 (ipykernel)",
   "language": "python",
   "name": "python3"
  },
  "language_info": {
   "codemirror_mode": {
    "name": "ipython",
    "version": 3
   },
   "file_extension": ".py",
   "mimetype": "text/x-python",
   "name": "python",
   "nbconvert_exporter": "python",
   "pygments_lexer": "ipython3",
   "version": "3.11.5"
  }
 },
 "nbformat": 4,
 "nbformat_minor": 5
}
