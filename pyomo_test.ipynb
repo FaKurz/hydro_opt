{
 "cells": [
  {
   "cell_type": "markdown",
   "id": "dcbb51aa-64a1-4f90-8281-24e273d5d52f",
   "metadata": {},
   "source": [
    "https://pyomo.readthedocs.io/en/stable/ <br>\n",
    "https://pyomo.readthedocs.io/en/stable/working_models.html"
   ]
  },
  {
   "cell_type": "code",
   "execution_count": 1,
   "id": "714cc15a-fe10-49ed-9aad-23c01bf3a40e",
   "metadata": {
    "tags": []
   },
   "outputs": [],
   "source": [
    "import pyomo.environ as pyo\n",
    "import pandas as pd"
   ]
  },
  {
   "cell_type": "markdown",
   "id": "fbf16e49-2f87-4b10-9bc2-36d7fbffa037",
   "metadata": {},
   "source": [
    "## Eingabedaten"
   ]
  },
  {
   "cell_type": "code",
   "execution_count": 2,
   "id": "bcb5beb5-cbcb-45da-b583-99f6f718c52c",
   "metadata": {
    "tags": []
   },
   "outputs": [],
   "source": [
    "input_data = pd.read_excel(\"Inputdata.xlsx\", index_col=\"Land\")"
   ]
  },
  {
   "cell_type": "markdown",
   "id": "2cf44c75-4217-4937-a215-c0f7ee2b09a3",
   "metadata": {
    "tags": []
   },
   "source": [
    "input_data"
   ]
  },
  {
   "cell_type": "markdown",
   "id": "bfbffa44-7580-4f41-9989-df53c7dd3362",
   "metadata": {
    "tags": []
   },
   "source": [
    "input_data.to_dict()"
   ]
  },
  {
   "cell_type": "markdown",
   "id": "b68c6bd4-0d33-4b3d-a640-606dcbfce4af",
   "metadata": {
    "tags": []
   },
   "source": [
    "input_data[\"H2 Herstellungspreis\"].to_dict()"
   ]
  },
  {
   "cell_type": "markdown",
   "id": "2bdb9240-9028-4fe5-9370-3ed1c2adf357",
   "metadata": {},
   "source": [
    "## Solver"
   ]
  },
  {
   "cell_type": "code",
   "execution_count": 3,
   "id": "c188f2a2-38f5-4c0b-88bd-8f5a5a4968ff",
   "metadata": {},
   "outputs": [],
   "source": [
    "solver = pyo.SolverFactory('gurobi') "
   ]
  },
  {
   "cell_type": "markdown",
   "id": "7c6a9c5e-e7cf-4e63-baf7-e005b8010cad",
   "metadata": {},
   "source": [
    "## Model"
   ]
  },
  {
   "cell_type": "code",
   "execution_count": 4,
   "id": "04b0b3ba-8c63-407c-9c8f-94bc4fb2683d",
   "metadata": {
    "tags": []
   },
   "outputs": [],
   "source": [
    "model_2 = pyo.ConcreteModel()"
   ]
  },
  {
   "cell_type": "markdown",
   "id": "a65a6112-15c3-4d96-a763-2bb05d5c090a",
   "metadata": {},
   "source": [
    "## Länder als itterable"
   ]
  },
  {
   "cell_type": "markdown",
   "id": "5a736a19-6590-4cd3-8885-c78788848a3a",
   "metadata": {
    "tags": []
   },
   "source": [
    "input_data.index"
   ]
  },
  {
   "cell_type": "code",
   "execution_count": 5,
   "id": "e22cfd91-139b-4d8b-9faf-b2ab3b9b7932",
   "metadata": {
    "tags": []
   },
   "outputs": [],
   "source": [
    "model_2.country = input_data.index"
   ]
  },
  {
   "cell_type": "markdown",
   "id": "c92effbc-ad2c-475b-a55e-ca0168e65b76",
   "metadata": {},
   "source": [
    "## Parameter"
   ]
  },
  {
   "cell_type": "code",
   "execution_count": 6,
   "id": "9dd1f640-6e8a-4e5d-b1dc-96033f557243",
   "metadata": {
    "tags": []
   },
   "outputs": [],
   "source": [
    "# Parameter in Model importieren\n",
    "model_2.h2_price =  pyo.Param(model_2.country, initialize=input_data[\"H2 Herstellungspreis\"].to_dict())\n",
    "model_2.h2_pipeline =  pyo.Param(model_2.country, initialize=input_data[\"H2 Pipeline Preis\"].to_dict())\n",
    "model_2.h2_ship =  pyo.Param(model_2.country, initialize=input_data[\"H2 Schiff Preis\"].to_dict())\n",
    "\n",
    "model_2.nh3_price =  pyo.Param(model_2.country, initialize=input_data[\"NH3 Herstellungspreis\"].to_dict())\n",
    "model_2.nh3_pipeline =  pyo.Param(model_2.country, initialize=input_data[\"NH3 Pipeline Preis\"].to_dict())\n",
    "model_2.nh3_ship =  pyo.Param(model_2.country, initialize=input_data[\"NH3 Schiff Preis\"].to_dict())\n",
    "\n",
    "model_2.ch3oh_price =  pyo.Param(model_2.country, initialize=input_data[\"CH3OH Herstellungspreis\"].to_dict())\n",
    "model_2.ch3oh_pipeline =  pyo.Param(model_2.country, initialize=input_data[\"CH3OH Pipeline Preis\"].to_dict())\n",
    "model_2.ch3oh_ship =  pyo.Param(model_2.country, initialize=input_data[\"CH3OH Schiff Preis\"].to_dict())"
   ]
  },
  {
   "cell_type": "markdown",
   "id": "1b5c8866-b224-457d-bab9-8c8988fc8be0",
   "metadata": {
    "tags": []
   },
   "source": [
    "model_2.h2_price.pprint()"
   ]
  },
  {
   "cell_type": "markdown",
   "id": "086472a8-1fae-4a88-ac25-a6a3c4439002",
   "metadata": {},
   "source": [
    "## Variablen"
   ]
  },
  {
   "cell_type": "code",
   "execution_count": 7,
   "id": "74c484c3-4138-402b-94ae-a82100c9eef8",
   "metadata": {
    "tags": []
   },
   "outputs": [],
   "source": [
    "# Variablen definieren\n",
    "model_2.h2_amount_ship = pyo.Var(model_2.country, domain = pyo.NonNegativeReals)\n",
    "model_2.h2_amount_pipeline = pyo.Var(model_2.country, domain = pyo.NonNegativeReals)\n",
    "\n",
    "model_2.nh3_amount_ship = pyo.Var(model_2.country, domain = pyo.NonNegativeReals)\n",
    "model_2.nh3_amount_pipeline = pyo.Var(model_2.country, domain = pyo.NonNegativeReals)\n",
    "\n",
    "model_2.ch3oh_amount_ship = pyo.Var(model_2.country, domain = pyo.NonNegativeReals)\n",
    "model_2.ch3oh_amount_pipeline = pyo.Var(model_2.country, domain = pyo.NonNegativeReals)"
   ]
  },
  {
   "cell_type": "markdown",
   "id": "5e8e24b1-fcf9-44cc-aa8d-cb68c890125f",
   "metadata": {},
   "source": [
    "## Zielfunktion"
   ]
  },
  {
   "cell_type": "code",
   "execution_count": 8,
   "id": "1697558b-c5af-4327-b471-794c6a567b46",
   "metadata": {
    "tags": []
   },
   "outputs": [],
   "source": [
    "# Zielfunktion\n",
    "obj_expr = sum(model_2.h2_pipeline[i] * model_2.h2_amount_pipeline[i] for i in model_2.country)\n",
    "model_2.obj = pyo.Objective(sense=pyo.minimize, expr=obj_expr)"
   ]
  },
  {
   "cell_type": "markdown",
   "id": "a5441b81-7dd1-45a3-9ce0-dfa638220f24",
   "metadata": {},
   "source": [
    "# müssen noch gemacht werden"
   ]
  },
  {
   "cell_type": "markdown",
   "id": "d34450ea-abac-4566-aac7-486b6a0da530",
   "metadata": {},
   "source": [
    "## Nebenbedingungen"
   ]
  },
  {
   "cell_type": "code",
   "execution_count": 9,
   "id": "ed737182-f270-4037-9d8f-f1130ddee603",
   "metadata": {
    "tags": []
   },
   "outputs": [
    {
     "data": {
      "text/plain": [
       "<pyomo.core.base.constraint._GeneralConstraintData at 0x20b7bc5dea0>"
      ]
     },
     "execution_count": 9,
     "metadata": {},
     "output_type": "execute_result"
    }
   ],
   "source": [
    "# Leere Liste von NB\n",
    "model_2.constraints = pyo.ConstraintList()\n",
    "\n",
    "# NB definieren\n",
    "con_test_lhs = sum(model_2.h2_amount_pipeline[i] for i in model_2.country)\n",
    "con_test_rhs = 10\n",
    "\n",
    "con_demand_lhs = sum(model_2.h2_amount_pipeline[i] for i in model_2.country)\n",
    "con_demand_rhs = 20\n",
    "\n",
    "# NB hinzufügen\n",
    "model_2.constraints.add(con_test_lhs >= con_test_rhs)\n",
    "model_2.constraints.add(con_demand_lhs <= con_demand_rhs)"
   ]
  },
  {
   "cell_type": "markdown",
   "id": "81f44eda-d2d9-4af2-b74a-bcd940f237b4",
   "metadata": {},
   "source": [
    "model_2.pprint()"
   ]
  },
  {
   "cell_type": "code",
   "execution_count": 10,
   "id": "3044478f-d816-4e40-bb0b-02e9656ac964",
   "metadata": {
    "tags": []
   },
   "outputs": [
    {
     "name": "stdout",
     "output_type": "stream",
     "text": [
      "Model unknown\n",
      "\n",
      "  Variables:\n",
      "    h2_amount_ship : Size=4, Index=h2_amount_ship_index\n",
      "        Key : Lower : Value : Upper : Fixed : Stale : Domain\n",
      "          A :     0 :  None :  None : False :  True : NonNegativeReals\n",
      "          B :     0 :  None :  None : False :  True : NonNegativeReals\n",
      "          C :     0 :  None :  None : False :  True : NonNegativeReals\n",
      "         De :     0 :  None :  None : False :  True : NonNegativeReals\n",
      "    h2_amount_pipeline : Size=4, Index=h2_amount_pipeline_index\n",
      "        Key : Lower : Value : Upper : Fixed : Stale : Domain\n",
      "          A :     0 :  10.0 :  None : False : False : NonNegativeReals\n",
      "          B :     0 :   0.0 :  None : False : False : NonNegativeReals\n",
      "          C :     0 :   0.0 :  None : False : False : NonNegativeReals\n",
      "         De :     0 :   0.0 :  None : False : False : NonNegativeReals\n",
      "    nh3_amount_ship : Size=4, Index=nh3_amount_ship_index\n",
      "        Key : Lower : Value : Upper : Fixed : Stale : Domain\n",
      "          A :     0 :  None :  None : False :  True : NonNegativeReals\n",
      "          B :     0 :  None :  None : False :  True : NonNegativeReals\n",
      "          C :     0 :  None :  None : False :  True : NonNegativeReals\n",
      "         De :     0 :  None :  None : False :  True : NonNegativeReals\n",
      "    nh3_amount_pipeline : Size=4, Index=nh3_amount_pipeline_index\n",
      "        Key : Lower : Value : Upper : Fixed : Stale : Domain\n",
      "          A :     0 :  None :  None : False :  True : NonNegativeReals\n",
      "          B :     0 :  None :  None : False :  True : NonNegativeReals\n",
      "          C :     0 :  None :  None : False :  True : NonNegativeReals\n",
      "         De :     0 :  None :  None : False :  True : NonNegativeReals\n",
      "    ch3oh_amount_ship : Size=4, Index=ch3oh_amount_ship_index\n",
      "        Key : Lower : Value : Upper : Fixed : Stale : Domain\n",
      "          A :     0 :  None :  None : False :  True : NonNegativeReals\n",
      "          B :     0 :  None :  None : False :  True : NonNegativeReals\n",
      "          C :     0 :  None :  None : False :  True : NonNegativeReals\n",
      "         De :     0 :  None :  None : False :  True : NonNegativeReals\n",
      "    ch3oh_amount_pipeline : Size=4, Index=ch3oh_amount_pipeline_index\n",
      "        Key : Lower : Value : Upper : Fixed : Stale : Domain\n",
      "          A :     0 :  None :  None : False :  True : NonNegativeReals\n",
      "          B :     0 :  None :  None : False :  True : NonNegativeReals\n",
      "          C :     0 :  None :  None : False :  True : NonNegativeReals\n",
      "         De :     0 :  None :  None : False :  True : NonNegativeReals\n",
      "\n",
      "  Objectives:\n",
      "    obj : Size=1, Index=None, Active=True\n",
      "        Key  : Active : Value\n",
      "        None :   True :  20.0\n",
      "\n",
      "  Constraints:\n",
      "    constraints : Size=2\n",
      "        Key : Lower : Body : Upper\n",
      "          1 :  10.0 : 10.0 :  None\n",
      "          2 :  None : 10.0 :  20.0\n"
     ]
    }
   ],
   "source": [
    "# Create a model instance and optimize\n",
    "instance = model_2.create_instance()\n",
    "results = solver.solve(instance)\n",
    "instance.display()"
   ]
  }
 ],
 "metadata": {
  "kernelspec": {
   "display_name": "Python 3 (ipykernel)",
   "language": "python",
   "name": "python3"
  },
  "language_info": {
   "codemirror_mode": {
    "name": "ipython",
    "version": 3
   },
   "file_extension": ".py",
   "mimetype": "text/x-python",
   "name": "python",
   "nbconvert_exporter": "python",
   "pygments_lexer": "ipython3",
   "version": "3.10.11"
  }
 },
 "nbformat": 4,
 "nbformat_minor": 5
}
