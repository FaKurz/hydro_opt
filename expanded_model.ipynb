{
 "cells": [
  {
   "cell_type": "code",
   "execution_count": 1,
   "id": "72b8c263-55f4-42d2-a05f-4d873f2d77f1",
   "metadata": {},
   "outputs": [],
   "source": [
    "import pyomo.environ as pyo\n",
    "import pandas as pd\n",
    "import seaborn as sns\n",
    "import matplotlib.pyplot as plt\n",
    "import geopandas as gpd"
   ]
  },
  {
   "cell_type": "code",
   "execution_count": 2,
   "id": "68fa7625-3989-4dae-b785-b4d284ff8a25",
   "metadata": {},
   "outputs": [],
   "source": [
    "world = gpd.read_file(\"ne_110m_admin_0_countries.zip\")"
   ]
  },
  {
   "cell_type": "code",
   "execution_count": 3,
   "id": "70d47ff6-e95c-42f2-b714-d678d377deb2",
   "metadata": {
    "tags": []
   },
   "outputs": [],
   "source": [
    "input_data = pd.read_excel(\"Inputdata.xlsx\", index_col=\"Land\")"
   ]
  },
  {
   "cell_type": "markdown",
   "id": "7eca2865-ad76-40b0-8162-adfdb847165f",
   "metadata": {},
   "source": [
    "## Solver"
   ]
  },
  {
   "cell_type": "code",
   "execution_count": 4,
   "id": "97b700bf-9c05-4f6d-b035-fa01b0dd66b6",
   "metadata": {},
   "outputs": [],
   "source": [
    "solver = pyo.SolverFactory('gurobi') "
   ]
  },
  {
   "cell_type": "markdown",
   "id": "d225ddbe-9942-4aea-b36e-af275a450700",
   "metadata": {},
   "source": [
    "## Model"
   ]
  },
  {
   "cell_type": "code",
   "execution_count": 5,
   "id": "babfcf7f-7959-4383-8cec-640e77edf311",
   "metadata": {
    "tags": []
   },
   "outputs": [],
   "source": [
    "model = pyo.ConcreteModel()"
   ]
  },
  {
   "cell_type": "markdown",
   "id": "38e2c8e5-8448-4729-938c-fd38a723fd2e",
   "metadata": {},
   "source": [
    "## Länder als itterable"
   ]
  },
  {
   "cell_type": "markdown",
   "id": "5bd5ca07-2843-4587-9d22-fdf6a329fe49",
   "metadata": {
    "tags": []
   },
   "source": [
    "input_data.index"
   ]
  },
  {
   "cell_type": "code",
   "execution_count": 6,
   "id": "823ffb5d-b37e-4819-8564-6c9ccad31c4d",
   "metadata": {
    "tags": []
   },
   "outputs": [],
   "source": [
    "model.country = input_data.index"
   ]
  },
  {
   "cell_type": "markdown",
   "id": "bfd72450-68d6-47ae-8d1a-345c7c2888ed",
   "metadata": {},
   "source": [
    "## Parameter"
   ]
  },
  {
   "cell_type": "code",
   "execution_count": 7,
   "id": "2f451bf6-8970-4b9a-a334-3e1c96ec6b3f",
   "metadata": {
    "tags": []
   },
   "outputs": [],
   "source": [
    "# Parameter in Model importieren\n",
    "model.h2_price =  pyo.Param(model.country, initialize=input_data[\"H2 Herstellungspreis\"].to_dict())\n",
    "model.h2_pipeline =  pyo.Param(model.country, initialize=input_data[\"H2 Pipeline Preis\"].to_dict())\n",
    "model.h2_ship =  pyo.Param(model.country, initialize=input_data[\"H2 Schiff Preis\"].to_dict())\n",
    "model.h2_limit = pyo.Param(model.country, initialize=input_data[\"H2 Export Limit\"].to_dict())\n",
    "\n",
    "model.nh3_price =  pyo.Param(model.country, initialize=input_data[\"NH3 Herstellungspreis\"].to_dict())\n",
    "model.nh3_pipeline =  pyo.Param(model.country, initialize=input_data[\"NH3 Pipeline Preis\"].to_dict())\n",
    "model.nh3_ship =  pyo.Param(model.country, initialize=input_data[\"NH3 Schiff Preis\"].to_dict())\n",
    "model.nh3_limit = pyo.Param(model.country, initialize=input_data[\"NH3 Export Limit\"].to_dict())\n",
    "\n",
    "model.ch3oh_price =  pyo.Param(model.country, initialize=input_data[\"CH3OH Herstellungspreis\"].to_dict())\n",
    "model.ch3oh_pipeline =  pyo.Param(model.country, initialize=input_data[\"CH3OH Pipeline Preis\"].to_dict())\n",
    "model.ch3oh_ship =  pyo.Param(model.country, initialize=input_data[\"CH3OH Schiff Preis\"].to_dict())\n",
    "model.ch3oh_limit = pyo.Param(model.country, initialize=input_data[\"CH3OH Export Limit\"].to_dict())"
   ]
  },
  {
   "cell_type": "markdown",
   "id": "7e065225-088a-4941-9fe0-2e04fcf87557",
   "metadata": {
    "tags": []
   },
   "source": [
    "model.h2_price.pprint()"
   ]
  },
  {
   "cell_type": "markdown",
   "id": "8dcec1fe-6d8d-4c65-b83a-9151c955c301",
   "metadata": {},
   "source": [
    "## Variablen"
   ]
  },
  {
   "cell_type": "code",
   "execution_count": 8,
   "id": "b23b0e46-6ed3-485f-b433-d518b2d31269",
   "metadata": {
    "tags": []
   },
   "outputs": [],
   "source": [
    "# Variablen definieren\n",
    "model.h2_amount_ship = pyo.Var(model.country, domain = pyo.NonNegativeReals)\n",
    "model.h2_amount_pipeline = pyo.Var(model.country, domain = pyo.NonNegativeReals)\n",
    "\n",
    "model.nh3_amount_ship = pyo.Var(model.country, domain = pyo.NonNegativeReals)\n",
    "model.nh3_amount_pipeline = pyo.Var(model.country, domain = pyo.NonNegativeReals)\n",
    "\n",
    "model.ch3oh_amount_ship = pyo.Var(model.country, domain = pyo.NonNegativeReals)\n",
    "model.ch3oh_amount_pipeline = pyo.Var(model.country, domain = pyo.NonNegativeReals)"
   ]
  },
  {
   "cell_type": "markdown",
   "id": "4af504b6-7537-4476-b5cc-eb744c17e77c",
   "metadata": {
    "tags": []
   },
   "source": [
    "sum(model.h2_amount_pipeline[i] for i in model.country) + sum(model.h2_ship[i] for i in model.country)"
   ]
  },
  {
   "cell_type": "markdown",
   "id": "905c94aa-574a-4593-96d1-b4f7ab0069e6",
   "metadata": {
    "tags": []
   },
   "source": [
    "imported_h2 = sum(model.h2_amount_pipeline[i] for i in model.country) + sum(model.h2_amount_ship[i] for i in model.country)\n",
    "imported_nh3 = sum(model.nh3_amount_pipeline[i] for i in model.country) + sum(model.nh3_amount_ship[i] for i in model.country)\n",
    "imported_ch3oh = sum(model.ch3oh_amount_pipeline[i] for i in model.country) + sum(model.ch3oh_amount_ship[i] for i in model.country)"
   ]
  },
  {
   "cell_type": "code",
   "execution_count": 9,
   "id": "8be535f6-8258-4f9a-93bd-4540085bfbe5",
   "metadata": {
    "tags": []
   },
   "outputs": [],
   "source": [
    "model.h2_amount_to_nh3 = pyo.Var(model.country, domain = pyo.NonNegativeReals)\n",
    "model.h2_amount_to_ch3oh = pyo.Var(model.country, domain = pyo.NonNegativeReals)"
   ]
  },
  {
   "cell_type": "markdown",
   "id": "d8c70660-815e-4650-b401-20a757e2e6a9",
   "metadata": {
    "tags": []
   },
   "source": [
    "model.pprint()"
   ]
  },
  {
   "cell_type": "markdown",
   "id": "b7cdd031-c265-4afa-9fc7-34e775247584",
   "metadata": {},
   "source": [
    "## Zielfunktion"
   ]
  },
  {
   "cell_type": "markdown",
   "id": "7f435cd1-ed2d-411e-92eb-94f73b02ca08",
   "metadata": {
    "tags": []
   },
   "source": [
    "# Umtauschbarkeit von H2 NH3 CH3OH"
   ]
  },
  {
   "cell_type": "code",
   "execution_count": 10,
   "id": "cc3e141b-4e79-4790-947b-4002bd94b0a7",
   "metadata": {},
   "outputs": [],
   "source": [
    "h2_to_nh3_eff = 10\n",
    "h2_to_ch3oh_eff = 20"
   ]
  },
  {
   "cell_type": "markdown",
   "id": "302a2c0b-13da-415a-9bd6-6ee7385f664b",
   "metadata": {
    "tags": []
   },
   "source": [
    "# Zielfunktion\n",
    "obj_expr = sum(model.h2_pipeline[i]*model.h2_amount_pipeline[i] + model.h2_ship[i]*model.h2_amount_ship[i] + model.h2_price[i]*(model.h2_amount_pipeline[i] + model.h2_amount_ship[i]) +\n",
    "               model.nh3_pipeline[i]*model.nh3_amount_pipeline[i] + model.nh3_ship[i]*model.nh3_amount_ship[i] + model.nh3_price[i]*(model.nh3_amount_pipeline[i] + model.nh3_amount_ship[i]) +\n",
    "               model.ch3oh_pipeline[i]*model.ch3oh_amount_pipeline[i] + model.ch3oh_ship[i]*model.ch3oh_amount_ship[i] + model.ch3oh_price[i]*(model.ch3oh_amount_pipeline[i] + model.ch3oh_amount_ship[i]) for i in model.country)\n",
    "model.obj = pyo.Objective(sense=pyo.minimize, expr=obj_expr)"
   ]
  },
  {
   "cell_type": "markdown",
   "id": "e50138cb-f52e-4d9b-b668-4654dc18ceab",
   "metadata": {
    "tags": []
   },
   "source": [
    "# Zielfunktion alt\n",
    "obj_expr = sum(model.h2_pipeline[i]*model.h2_amount_pipeline[i] + model.h2_ship[i]*model.h2_amount_ship[i] + model.h2_price[i]*(model.h2_amount_pipeline[i] + model.h2_amount_ship[i]) +\n",
    "               model.nh3_pipeline[i]*model.nh3_amount_pipeline[i] + model.nh3_ship[i]*model.nh3_amount_ship[i] + model.nh3_price[i]*(model.nh3_amount_pipeline[i] + model.nh3_amount_ship[i]) +\n",
    "               model.ch3oh_pipeline[i]*model.ch3oh_amount_pipeline[i] + model.ch3oh_ship[i]*model.ch3oh_amount_ship[i] + model.ch3oh_price[i]*(model.ch3oh_amount_pipeline[i] + model.ch3oh_amount_ship[i])\n",
    "               for i in model.country) \n",
    "model.obj = pyo.Objective(sense=pyo.minimize, expr=obj_expr)"
   ]
  },
  {
   "cell_type": "markdown",
   "id": "38c3ae20-81e9-42f2-a5d7-af06a6601799",
   "metadata": {},
   "source": [
    "# siehe GPT"
   ]
  },
  {
   "cell_type": "code",
   "execution_count": 11,
   "id": "40d7330c-e421-4043-bd25-d6c7e8d6143c",
   "metadata": {},
   "outputs": [],
   "source": [
    "# Zielfunktion neu\n",
    "obj_expr = sum(\n",
    "        # Tranportkosten * Menge je Tranportoption + Herstellungspreis * Gesamtmenge\n",
    "          model.h2_pipeline[i]*model.h2_amount_pipeline[i] + model.h2_ship[i]*model.h2_amount_ship[i] + model.h2_price[i]*(model.h2_amount_pipeline[i] + model.h2_amount_ship[i])\n",
    "        # Tranportkosten * Menge je Tranportoption + Herstellungspreis * Gesamtmenge\n",
    "        + model.nh3_pipeline[i]*model.nh3_amount_pipeline[i] + model.nh3_ship[i]*model.nh3_amount_ship[i] + model.nh3_price[i]*(model.nh3_amount_pipeline[i] + model.nh3_amount_ship[i])\n",
    "        # Umwandlung von Wasserstoff zu Chemikalie\n",
    "        + model.h2_amount_to_nh3[i] * (h2_to_nh3_eff * (model.h2_amount_pipeline[i] + model.h2_amount_ship[i]) - (model.nh3_amount_pipeline[i] + model.nh3_amount_ship[i]))\n",
    "        # Tranportkosten * Menge je Tranportoption + Herstellungspreis * Gesamtmenge                             \n",
    "        + model.ch3oh_pipeline[i]*model.ch3oh_amount_pipeline[i] + model.ch3oh_ship[i]*model.ch3oh_amount_ship[i] + model.ch3oh_price[i]*(model.ch3oh_amount_pipeline[i] + model.ch3oh_amount_ship[i])\n",
    "        for i in model.country) \n",
    "model.obj = pyo.Objective(sense=pyo.minimize, expr=obj_expr)"
   ]
  },
  {
   "cell_type": "markdown",
   "id": "a6fc7a46-4b73-4b14-b5f7-15cdd50e2328",
   "metadata": {},
   "source": [
    "# müssen noch gemacht werden"
   ]
  },
  {
   "cell_type": "markdown",
   "id": "355cfc80-e749-4d74-816c-b35438d3aa7b",
   "metadata": {},
   "source": [
    "## Nebenbedingungen"
   ]
  },
  {
   "cell_type": "code",
   "execution_count": 12,
   "id": "0b24162e-fd92-431a-a7ae-ec7b9cc6a742",
   "metadata": {
    "tags": []
   },
   "outputs": [],
   "source": [
    "# Bedarfsdeckung\n",
    "model.demand_constraints = pyo.ConstraintList()\n",
    "\n",
    "con_demand_h2_lhs = sum(model.h2_amount_pipeline[i] + model.h2_amount_ship[i] for i in model.country) - sum(model.h2_amount_to_nh3[i] for i in model.country)\n",
    "con_demand_h2_rhs = 1000000\n",
    "model.demand_constraints.add(con_demand_h2_lhs >= con_demand_h2_rhs)\n",
    "\n",
    "con_demand_nh3_lhs = sum(model.nh3_amount_pipeline[i] + model.nh3_amount_ship[i] for i in model.country) + h2_to_nh3_eff*sum(model.h2_amount_to_nh3[i] for i in model.country)\n",
    "con_demand_nh3_rhs = 1000000\n",
    "model.demand_constraints.add(con_demand_nh3_lhs >= con_demand_nh3_rhs)\n",
    "\n",
    "con_demand_ch3oh_lhs = sum(model.ch3oh_amount_pipeline[i] + model.ch3oh_amount_ship[i] for i in model.country)\n",
    "con_demand_ch3oh_rhs = 1000000\n",
    "model.demand_constraints.add(con_demand_ch3oh_lhs >= con_demand_ch3oh_rhs)\n",
    "\n",
    "# Exportlimits\n",
    "model.export_constraints = pyo.ConstraintList()\n",
    "\n",
    "for i in model.country:\n",
    "    con_export_h2_lhs = model.h2_amount_pipeline[i] + model.h2_amount_ship[i]\n",
    "    con_export_h2_rhs = model.h2_limit[i]\n",
    "    model.export_constraints.add(con_export_h2_lhs <= con_export_h2_rhs)\n",
    "    model.export_constraints.add(0 <= con_export_h2_lhs)\n",
    "    \n",
    "    con_export_nh3_lhs = model.nh3_amount_pipeline[i] + model.nh3_amount_ship[i]\n",
    "    con_export_nh3_rhs = model.nh3_limit[i]\n",
    "    model.export_constraints.add(con_export_nh3_lhs <= con_export_nh3_rhs)\n",
    "    model.export_constraints.add(0 <= con_export_nh3_lhs)\n",
    "    \n",
    "    con_export_ch3oh_lhs = model.ch3oh_amount_pipeline[i] + model.ch3oh_amount_ship[i]\n",
    "    con_export_ch3oh_rhs = model.ch3oh_limit[i]\n",
    "    model.export_constraints.add(con_export_ch3oh_lhs <= con_export_h2_rhs)\n",
    "    model.export_constraints.add(0 <= con_export_ch3oh_lhs)\n",
    "\n",
    "\n",
    "# Umwandlung\n",
    "model.exchange_constraints = pyo.ConstraintList()\n",
    "\n",
    "for i in model.country:\n",
    "    con_exchange = (model.h2_amount_pipeline[i] + model.h2_amount_ship[i]) >= model.h2_amount_to_nh3[i] + model.h2_amount_to_ch3oh[i]\n",
    "    model.exchange_constraints.add(con_exchange)\n"
   ]
  },
  {
   "cell_type": "markdown",
   "id": "553463ff-1bf7-44db-a14f-03aa915691a1",
   "metadata": {
    "tags": []
   },
   "source": [
    "model.pprint()"
   ]
  },
  {
   "cell_type": "code",
   "execution_count": null,
   "id": "6d46f52a-baff-49cb-a36c-bca32276b3d2",
   "metadata": {
    "tags": []
   },
   "outputs": [],
   "source": [
    "# Create a model instance and optimize\n",
    "instance = model.create_instance()\n",
    "\n",
    "solver.options['NonConvex'] = 2\n",
    "results = solver.solve(instance)\n",
    "#instance.display()"
   ]
  },
  {
   "cell_type": "code",
   "execution_count": null,
   "id": "b6bfa0bb-40e0-4aa1-a71c-efa2a2df89e3",
   "metadata": {
    "tags": []
   },
   "outputs": [],
   "source": [
    "instance.display()"
   ]
  },
  {
   "cell_type": "code",
   "execution_count": null,
   "id": "f13e89e0-9354-493b-839f-2efcbdeff1e5",
   "metadata": {},
   "outputs": [],
   "source": []
  }
 ],
 "metadata": {
  "kernelspec": {
   "display_name": "Python 3 (ipykernel)",
   "language": "python",
   "name": "python3"
  },
  "language_info": {
   "codemirror_mode": {
    "name": "ipython",
    "version": 3
   },
   "file_extension": ".py",
   "mimetype": "text/x-python",
   "name": "python",
   "nbconvert_exporter": "python",
   "pygments_lexer": "ipython3",
   "version": "3.10.11"
  }
 },
 "nbformat": 4,
 "nbformat_minor": 5
}
