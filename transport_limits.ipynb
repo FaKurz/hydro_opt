{
 "cells": [
  {
   "cell_type": "code",
   "execution_count": 1,
   "id": "16909b45-fd4f-42e5-968c-8fd336e10526",
   "metadata": {
    "tags": []
   },
   "outputs": [],
   "source": [
    "import pandas as pd\n",
    "import geopandas as gpd"
   ]
  },
  {
   "cell_type": "code",
   "execution_count": 2,
   "id": "37d4729d-dd11-49f7-8be7-3cbe02e00402",
   "metadata": {
    "tags": []
   },
   "outputs": [],
   "source": [
    "limits = pd.read_excel(\"pipeline_limits.xlsx\")\n",
    "routes = pd.read_excel(\"pipeline_routes.xlsx\")"
   ]
  },
  {
   "cell_type": "code",
   "execution_count": 3,
   "id": "f04b675e-fd9f-4e15-ac68-a1d28e0b52d2",
   "metadata": {
    "tags": []
   },
   "outputs": [
    {
     "data": {
      "text/html": [
       "<div>\n",
       "<style scoped>\n",
       "    .dataframe tbody tr th:only-of-type {\n",
       "        vertical-align: middle;\n",
       "    }\n",
       "\n",
       "    .dataframe tbody tr th {\n",
       "        vertical-align: top;\n",
       "    }\n",
       "\n",
       "    .dataframe thead th {\n",
       "        text-align: right;\n",
       "    }\n",
       "</style>\n",
       "<table border=\"1\" class=\"dataframe\">\n",
       "  <thead>\n",
       "    <tr style=\"text-align: right;\">\n",
       "      <th></th>\n",
       "      <th>From Country</th>\n",
       "      <th>From Code</th>\n",
       "      <th>To Country</th>\n",
       "      <th>To Code</th>\n",
       "      <th>GWh/d</th>\n",
       "      <th>MWh/y</th>\n",
       "      <th>from_to</th>\n",
       "    </tr>\n",
       "  </thead>\n",
       "  <tbody>\n",
       "    <tr>\n",
       "      <th>0</th>\n",
       "      <td>Algeria</td>\n",
       "      <td>DZ</td>\n",
       "      <td>Italy</td>\n",
       "      <td>IT</td>\n",
       "      <td>448.0</td>\n",
       "      <td>163520000.0</td>\n",
       "      <td>DZ_IT</td>\n",
       "    </tr>\n",
       "    <tr>\n",
       "      <th>1</th>\n",
       "      <td>Algeria</td>\n",
       "      <td>DZ</td>\n",
       "      <td>Spain</td>\n",
       "      <td>ES</td>\n",
       "      <td>245.0</td>\n",
       "      <td>89425000.0</td>\n",
       "      <td>DZ_ES</td>\n",
       "    </tr>\n",
       "  </tbody>\n",
       "</table>\n",
       "</div>"
      ],
      "text/plain": [
       "  From Country From Code To Country To Code  GWh/d        MWh/y from_to\n",
       "0      Algeria        DZ      Italy      IT  448.0  163520000.0   DZ_IT\n",
       "1      Algeria        DZ      Spain      ES  245.0   89425000.0   DZ_ES"
      ]
     },
     "execution_count": 3,
     "metadata": {},
     "output_type": "execute_result"
    }
   ],
   "source": [
    "limits[\"from_to\"] = limits[\"From Code\"] + \"_\" + limits[\"To Code\"]\n",
    "limits.head(2)"
   ]
  },
  {
   "cell_type": "code",
   "execution_count": 4,
   "id": "747a6bbb-03f6-47dc-ae75-15215552d937",
   "metadata": {
    "tags": []
   },
   "outputs": [
    {
     "data": {
      "text/html": [
       "<div>\n",
       "<style scoped>\n",
       "    .dataframe tbody tr th:only-of-type {\n",
       "        vertical-align: middle;\n",
       "    }\n",
       "\n",
       "    .dataframe tbody tr th {\n",
       "        vertical-align: top;\n",
       "    }\n",
       "\n",
       "    .dataframe thead th {\n",
       "        text-align: right;\n",
       "    }\n",
       "</style>\n",
       "<table border=\"1\" class=\"dataframe\">\n",
       "  <thead>\n",
       "    <tr style=\"text-align: right;\">\n",
       "      <th></th>\n",
       "      <th>Country</th>\n",
       "      <th>Code</th>\n",
       "      <th>Route</th>\n",
       "    </tr>\n",
       "  </thead>\n",
       "  <tbody>\n",
       "    <tr>\n",
       "      <th>0</th>\n",
       "      <td>Austria</td>\n",
       "      <td>AT</td>\n",
       "      <td>AT-&gt;DE</td>\n",
       "    </tr>\n",
       "    <tr>\n",
       "      <th>1</th>\n",
       "      <td>Algeria</td>\n",
       "      <td>DZ</td>\n",
       "      <td>DZ-&gt;TN-&gt;IT-&gt;CH-&gt;DE</td>\n",
       "    </tr>\n",
       "  </tbody>\n",
       "</table>\n",
       "</div>"
      ],
      "text/plain": [
       "   Country Code                Route\n",
       "0  Austria   AT               AT->DE\n",
       "1  Algeria   DZ  DZ->TN->IT->CH->DE "
      ]
     },
     "execution_count": 4,
     "metadata": {},
     "output_type": "execute_result"
    }
   ],
   "source": [
    "routes.head(2)"
   ]
  },
  {
   "cell_type": "code",
   "execution_count": 5,
   "id": "cb05983f-01e9-4fc3-a375-f76082f56ec4",
   "metadata": {
    "tags": []
   },
   "outputs": [
    {
     "name": "stdout",
     "output_type": "stream",
     "text": [
      "Not in Limits: ['Azerbaijan', 'Iraq', 'Iran', 'Libya', 'Morocco', 'Moldova', 'Russian Federation', 'Syria', 'Turkmenistan', 'Tunisia', 'Turkey']\n",
      "Not in Routes: ['Bosnia-Herznegovina', 'Germany', 'Latvia', 'Luxembourg', 'Serbia']\n"
     ]
    }
   ],
   "source": [
    "not_in_limits = [x for x in routes[\"Country\"].unique() if x not in limits[\"From Country\"].unique() and x not in limits[\"To Country\"]]\n",
    "not_in_routes = [x for x in limits[\"From Country\"].unique() if x not in routes[\"Country\"].unique()]\n",
    "print(\"Not in Limits:\", not_in_limits)\n",
    "print(\"Not in Routes:\", not_in_routes)"
   ]
  },
  {
   "cell_type": "code",
   "execution_count": 6,
   "id": "2539e1f7-3852-454f-bcc0-bda746f6b133",
   "metadata": {
    "tags": []
   },
   "outputs": [],
   "source": [
    "#routes[\"First Transport\"] = routes[\"Route\"].apply(lambda x: x[4:6])\n",
    "#routes_capped = routes[~routes[\"Country\"].isin(not_in_limits)].copy()"
   ]
  },
  {
   "cell_type": "markdown",
   "id": "aa93ad25-a0d9-4ac5-bdb2-1c6b6dc53648",
   "metadata": {
    "tags": []
   },
   "source": [
    "routes_capped[\"Downstream\"] = routes_capped[\"Code\"].apply(lambda country: routes_capped.loc[routes_capped[\"Route\"].apply(lambda x: \"->\"+country in x), \"Code\"].to_list())\n",
    "routes_capped[\"First Transport\"] = routes_capped[\"Route\"].apply(lambda x: x[4:6])\n",
    "routes_capped[\"from_to\"] = routes_capped[\"Code\"] + \"_\" + routes_capped[\"First Transport\"]"
   ]
  },
  {
   "cell_type": "code",
   "execution_count": 7,
   "id": "4f0b32a4-c80c-46f0-8a67-d3032d8a17e1",
   "metadata": {
    "tags": []
   },
   "outputs": [],
   "source": [
    "routes[\"Downstream\"] = routes[\"Code\"].apply(lambda country: routes.loc[routes[\"Route\"].apply(lambda x: \"->\"+country in x), \"Code\"].to_list())\n",
    "#routes[\"First Transport\"] = routes[\"Route\"].apply(lambda x: x[4:6])\n",
    "routes[\"from_to\"] = routes[\"Code\"] + \"_\" + routes[\"Route\"].apply(lambda x: x[4:6])# routes[\"First Transport\"]"
   ]
  },
  {
   "cell_type": "code",
   "execution_count": 8,
   "id": "2740bc8e-d391-4f44-9d64-84ff55612509",
   "metadata": {
    "tags": []
   },
   "outputs": [
    {
     "data": {
      "text/html": [
       "<div>\n",
       "<style scoped>\n",
       "    .dataframe tbody tr th:only-of-type {\n",
       "        vertical-align: middle;\n",
       "    }\n",
       "\n",
       "    .dataframe tbody tr th {\n",
       "        vertical-align: top;\n",
       "    }\n",
       "\n",
       "    .dataframe thead th {\n",
       "        text-align: right;\n",
       "    }\n",
       "</style>\n",
       "<table border=\"1\" class=\"dataframe\">\n",
       "  <thead>\n",
       "    <tr style=\"text-align: right;\">\n",
       "      <th></th>\n",
       "      <th>Country</th>\n",
       "      <th>Code</th>\n",
       "      <th>Route</th>\n",
       "      <th>Downstream</th>\n",
       "      <th>from_to</th>\n",
       "    </tr>\n",
       "  </thead>\n",
       "  <tbody>\n",
       "    <tr>\n",
       "      <th>0</th>\n",
       "      <td>Austria</td>\n",
       "      <td>AT</td>\n",
       "      <td>AT-&gt;DE</td>\n",
       "      <td>[AZ, BG, GR, HU, IQ, IR, MD, RO, SK, SY, TM, TR]</td>\n",
       "      <td>AT_DE</td>\n",
       "    </tr>\n",
       "    <tr>\n",
       "      <th>1</th>\n",
       "      <td>Algeria</td>\n",
       "      <td>DZ</td>\n",
       "      <td>DZ-&gt;TN-&gt;IT-&gt;CH-&gt;DE</td>\n",
       "      <td>[]</td>\n",
       "      <td>DZ_TN</td>\n",
       "    </tr>\n",
       "  </tbody>\n",
       "</table>\n",
       "</div>"
      ],
      "text/plain": [
       "   Country Code                Route  \\\n",
       "0  Austria   AT               AT->DE   \n",
       "1  Algeria   DZ  DZ->TN->IT->CH->DE    \n",
       "\n",
       "                                         Downstream from_to  \n",
       "0  [AZ, BG, GR, HU, IQ, IR, MD, RO, SK, SY, TM, TR]   AT_DE  \n",
       "1                                                []   DZ_TN  "
      ]
     },
     "execution_count": 8,
     "metadata": {},
     "output_type": "execute_result"
    }
   ],
   "source": [
    "routes.head(2)"
   ]
  },
  {
   "cell_type": "code",
   "execution_count": 16,
   "id": "d2057bfc-da1d-4eba-bf01-00864f187624",
   "metadata": {
    "tags": []
   },
   "outputs": [],
   "source": [
    "test = pd.merge(routes, limits, how = \"left\", on = \"from_to\").fillna(0)"
   ]
  },
  {
   "cell_type": "code",
   "execution_count": 21,
   "id": "ab1b9021-e263-4000-93d3-18873229b712",
   "metadata": {
    "tags": []
   },
   "outputs": [
    {
     "data": {
      "text/html": [
       "<div>\n",
       "<style scoped>\n",
       "    .dataframe tbody tr th:only-of-type {\n",
       "        vertical-align: middle;\n",
       "    }\n",
       "\n",
       "    .dataframe tbody tr th {\n",
       "        vertical-align: top;\n",
       "    }\n",
       "\n",
       "    .dataframe thead th {\n",
       "        text-align: right;\n",
       "    }\n",
       "</style>\n",
       "<table border=\"1\" class=\"dataframe\">\n",
       "  <thead>\n",
       "    <tr style=\"text-align: right;\">\n",
       "      <th></th>\n",
       "      <th>Country</th>\n",
       "      <th>Code</th>\n",
       "      <th>Route</th>\n",
       "      <th>Downstream</th>\n",
       "      <th>from_to</th>\n",
       "      <th>test</th>\n",
       "      <th>From Country</th>\n",
       "      <th>From Code</th>\n",
       "      <th>To Country</th>\n",
       "      <th>To Code</th>\n",
       "      <th>GWh/d</th>\n",
       "      <th>MWh/y</th>\n",
       "    </tr>\n",
       "  </thead>\n",
       "  <tbody>\n",
       "    <tr>\n",
       "      <th>0</th>\n",
       "      <td>Austria</td>\n",
       "      <td>AT</td>\n",
       "      <td>AT-&gt;DE</td>\n",
       "      <td>[AZ, BG, GR, HU, IQ, IR, MD, RO, SK, SY, TM, TR]</td>\n",
       "      <td>AT_DE</td>\n",
       "      <td>Austriaa</td>\n",
       "      <td>Austria</td>\n",
       "      <td>AT</td>\n",
       "      <td>Germany</td>\n",
       "      <td>DE</td>\n",
       "      <td>150.0</td>\n",
       "      <td>54750000.0</td>\n",
       "    </tr>\n",
       "    <tr>\n",
       "      <th>1</th>\n",
       "      <td>Algeria</td>\n",
       "      <td>DZ</td>\n",
       "      <td>DZ-&gt;TN-&gt;IT-&gt;CH-&gt;DE</td>\n",
       "      <td>[]</td>\n",
       "      <td>DZ_TN</td>\n",
       "      <td>Algeriaa</td>\n",
       "      <td>0</td>\n",
       "      <td>0</td>\n",
       "      <td>0</td>\n",
       "      <td>0</td>\n",
       "      <td>0.0</td>\n",
       "      <td>0.0</td>\n",
       "    </tr>\n",
       "  </tbody>\n",
       "</table>\n",
       "</div>"
      ],
      "text/plain": [
       "   Country Code                Route  \\\n",
       "0  Austria   AT               AT->DE   \n",
       "1  Algeria   DZ  DZ->TN->IT->CH->DE    \n",
       "\n",
       "                                         Downstream from_to      test  \\\n",
       "0  [AZ, BG, GR, HU, IQ, IR, MD, RO, SK, SY, TM, TR]   AT_DE  Austriaa   \n",
       "1                                                []   DZ_TN  Algeriaa   \n",
       "\n",
       "  From Country From Code To Country To Code  GWh/d       MWh/y  \n",
       "0      Austria        AT    Germany      DE  150.0  54750000.0  \n",
       "1            0         0          0       0    0.0         0.0  "
      ]
     },
     "execution_count": 21,
     "metadata": {},
     "output_type": "execute_result"
    }
   ],
   "source": [
    "test.head(2)"
   ]
  },
  {
   "cell_type": "code",
   "execution_count": 43,
   "id": "19bfb2c5-4717-44f6-a4a6-1e4697304d3e",
   "metadata": {
    "tags": []
   },
   "outputs": [],
   "source": [
    "test.loc[test[\"Code\"] == \"AT\", \"Downstream\"].values[0]\n",
    "a = 10\n",
    "for i in test.loc[test[\"Code\"] == \"DZ\", \"Downstream\"].values[0]:\n",
    "    print(a)"
   ]
  },
  {
   "cell_type": "code",
   "execution_count": null,
   "id": "794fda3d-fbbd-4169-bd86-964afd5ebf58",
   "metadata": {},
   "outputs": [],
   "source": []
  }
 ],
 "metadata": {
  "kernelspec": {
   "display_name": "Python 3 (ipykernel)",
   "language": "python",
   "name": "python3"
  },
  "language_info": {
   "codemirror_mode": {
    "name": "ipython",
    "version": 3
   },
   "file_extension": ".py",
   "mimetype": "text/x-python",
   "name": "python",
   "nbconvert_exporter": "python",
   "pygments_lexer": "ipython3",
   "version": "3.10.11"
  }
 },
 "nbformat": 4,
 "nbformat_minor": 5
}
